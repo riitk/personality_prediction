{
 "cells": [
  {
   "cell_type": "code",
   "execution_count": 194,
   "id": "d0bfe17d-6b0f-4f28-801d-6226c71e797f",
   "metadata": {},
   "outputs": [],
   "source": [
    "import numpy as np\n",
    "import pandas as pd\n",
    "from tensorflow.keras.models import Sequential\n",
    "from tensorflow.keras.layers import Dense\n",
    "from sklearn.metrics import mean_squared_error, r2_score"
   ]
  },
  {
   "cell_type": "code",
   "execution_count": 210,
   "id": "787a7d37-6dc6-4d78-a533-ace38bcabb76",
   "metadata": {},
   "outputs": [],
   "source": [
    "model = Sequential([Dense(7, activation='relu', input_shape = (7,)), Dense(1, 'softmax')]) # making the model's blueprint\n",
    "# we take the actiation layer to apply the softmax function to it to get the probability distribution of the classes to which the \n",
    "# given tuple of scores / the data point belongs to"
   ]
  },
  {
   "cell_type": "code",
   "execution_count": 113,
   "id": "e1e4f327-0cf9-44ff-bc1f-60a9da954a04",
   "metadata": {},
   "outputs": [
    {
     "name": "stdout",
     "output_type": "stream",
     "text": [
      "(709, 8) (315, 8)\n"
     ]
    }
   ],
   "source": [
    "train_df = pd.read_csv('train.csv')\n",
    "test_df = pd.read_csv('test.csv')\n",
    "\n",
    "print(train_df.shape, test_df.shape)"
   ]
  },
  {
   "cell_type": "code",
   "execution_count": 114,
   "id": "01694162-7138-47e2-8ace-f8c541876cd5",
   "metadata": {},
   "outputs": [],
   "source": [
    "from sklearn.preprocessing import LabelEncoder, normalize"
   ]
  },
  {
   "cell_type": "code",
   "execution_count": 115,
   "id": "f08aaf99-48a4-42d2-bea6-888a6a32fe54",
   "metadata": {
    "scrolled": true
   },
   "outputs": [
    {
     "name": "stdout",
     "output_type": "stream",
     "text": [
      "<class 'pandas.core.frame.DataFrame'>\n",
      "RangeIndex: 709 entries, 0 to 708\n",
      "Data columns (total 8 columns):\n",
      " #   Column                     Non-Null Count  Dtype \n",
      "---  ------                     --------------  ----- \n",
      " 0   Gender                     709 non-null    object\n",
      " 1   Age                        709 non-null    int64 \n",
      " 2   openness                   709 non-null    int64 \n",
      " 3   neuroticism                709 non-null    int64 \n",
      " 4   conscientiousness          709 non-null    int64 \n",
      " 5   agreeableness              709 non-null    int64 \n",
      " 6   extraversion               709 non-null    int64 \n",
      " 7   Personality (Class label)  709 non-null    object\n",
      "dtypes: int64(6), object(2)\n",
      "memory usage: 44.4+ KB\n",
      "<class 'pandas.core.frame.DataFrame'>\n",
      "RangeIndex: 315 entries, 0 to 314\n",
      "Data columns (total 8 columns):\n",
      " #   Column                     Non-Null Count  Dtype \n",
      "---  ------                     --------------  ----- \n",
      " 0   Gender                     315 non-null    object\n",
      " 1   Age                        315 non-null    int64 \n",
      " 2   openness                   315 non-null    int64 \n",
      " 3   neuroticism                315 non-null    int64 \n",
      " 4   conscientiousness          315 non-null    int64 \n",
      " 5   agreeableness              315 non-null    int64 \n",
      " 6   extraversion               315 non-null    int64 \n",
      " 7   Personality (class label)  315 non-null    object\n",
      "dtypes: int64(6), object(2)\n",
      "memory usage: 19.8+ KB\n"
     ]
    }
   ],
   "source": [
    "train_df.info()\n",
    "test_df.info()"
   ]
  },
  {
   "cell_type": "code",
   "execution_count": 116,
   "id": "4487a292-af72-4b3d-a5d0-43be15acf63b",
   "metadata": {},
   "outputs": [],
   "source": [
    "test_df.rename(columns={\"Personality (class label)\": \"personality\"}, inplace=True)"
   ]
  },
  {
   "cell_type": "code",
   "execution_count": 117,
   "id": "2e6ae52f-5155-4b19-8fe0-ef116fcfe3d8",
   "metadata": {},
   "outputs": [],
   "source": [
    "train_df.rename(columns={\"Personality (Class label)\":\"personality\"}, inplace = True)"
   ]
  },
  {
   "cell_type": "code",
   "execution_count": 182,
   "id": "9477d8c3-12ac-4181-97a7-97b36e2a7097",
   "metadata": {},
   "outputs": [],
   "source": [
    "label_enc = LabelEncoder() # using a label encoder for preprocessing\n",
    "train_df['Gender'], test_df['Gender'] = label_enc.fit_transform(train_df['Gender']), label_enc.fit_transform(test_df['Gender'])\n",
    "train_df['personality'], test_df['personality'] = label_enc.fit_transform(train_df['personality']), label_enc.fit_transform(test_df['personality'])"
   ]
  },
  {
   "cell_type": "code",
   "execution_count": 183,
   "id": "826b276d-ed86-47bd-9a3f-dd3fd496ef79",
   "metadata": {},
   "outputs": [],
   "source": [
    "main_df = pd.concat([train_df, test_df], axis = 0)"
   ]
  },
  {
   "cell_type": "code",
   "execution_count": 184,
   "id": "39415e65-b817-4152-8d18-b7adefff6ea2",
   "metadata": {},
   "outputs": [],
   "source": [
    "for column in main_df:\n",
    "    if column != 'personality' and column != 'Gender':\n",
    "        u = max(main_df[column])\n",
    "        l = min(main_df[column])\n",
    "        main_df = main_df.astype({column:float})\n",
    "        main_df[column] = (main_df[column] - l)/(u-l)"
   ]
  },
  {
   "cell_type": "code",
   "execution_count": 185,
   "id": "f69d20cb-ac96-406d-a502-69196a25affb",
   "metadata": {},
   "outputs": [
    {
     "name": "stdout",
     "output_type": "stream",
     "text": [
      "     Gender       Age  openness  neuroticism  conscientiousness  \\\n",
      "0         2  0.521739  0.857143        0.375              0.750   \n",
      "1         2  0.608696  0.428571        0.500              0.375   \n",
      "2         1  0.565217  0.857143        0.625              0.375   \n",
      "3         1  0.739130  0.571429        0.625              0.750   \n",
      "4         1  0.608696  0.857143        0.375              0.625   \n",
      "..      ...       ...       ...          ...                ...   \n",
      "310       0  0.608696  0.714286        0.500              0.625   \n",
      "311       1  0.565217  0.142857        0.500              0.875   \n",
      "312       1  0.565217  0.857143        0.500              0.625   \n",
      "313       1  0.782609  0.714286        0.750              0.500   \n",
      "314       0  0.565217  0.571429        0.750              0.250   \n",
      "\n",
      "     agreeableness  extraversion  personality  \n",
      "0         0.285714      0.142857            1  \n",
      "1         0.714286      0.714286            4  \n",
      "2         0.571429      0.571429            0  \n",
      "3         0.428571      0.285714            1  \n",
      "4         0.571429      0.428571            2  \n",
      "..             ...           ...          ...  \n",
      "310       0.428571      0.285714            1  \n",
      "311       0.285714      0.857143            0  \n",
      "312       0.142857      0.857143            4  \n",
      "313       0.428571      0.285714            1  \n",
      "314       0.571429      0.714286            1  \n",
      "\n",
      "[1024 rows x 8 columns]\n"
     ]
    }
   ],
   "source": [
    "print(main_df.head(1024))"
   ]
  },
  {
   "cell_type": "code",
   "execution_count": 186,
   "id": "f8ac8590-ad4e-42a6-ad7b-a4c64c5dfa05",
   "metadata": {},
   "outputs": [
    {
     "data": {
      "text/html": [
       "<div>\n",
       "<style scoped>\n",
       "    .dataframe tbody tr th:only-of-type {\n",
       "        vertical-align: middle;\n",
       "    }\n",
       "\n",
       "    .dataframe tbody tr th {\n",
       "        vertical-align: top;\n",
       "    }\n",
       "\n",
       "    .dataframe thead th {\n",
       "        text-align: right;\n",
       "    }\n",
       "</style>\n",
       "<table border=\"1\" class=\"dataframe\">\n",
       "  <thead>\n",
       "    <tr style=\"text-align: right;\">\n",
       "      <th></th>\n",
       "      <th>Gender</th>\n",
       "      <th>Age</th>\n",
       "      <th>openness</th>\n",
       "      <th>neuroticism</th>\n",
       "      <th>conscientiousness</th>\n",
       "      <th>agreeableness</th>\n",
       "      <th>extraversion</th>\n",
       "      <th>personality</th>\n",
       "    </tr>\n",
       "  </thead>\n",
       "  <tbody>\n",
       "    <tr>\n",
       "      <th>317</th>\n",
       "      <td>1</td>\n",
       "      <td>0.608696</td>\n",
       "      <td>0.714286</td>\n",
       "      <td>0.625</td>\n",
       "      <td>0.625</td>\n",
       "      <td>0.714286</td>\n",
       "      <td>0.428571</td>\n",
       "      <td>0</td>\n",
       "    </tr>\n",
       "    <tr>\n",
       "      <th>235</th>\n",
       "      <td>1</td>\n",
       "      <td>0.608696</td>\n",
       "      <td>0.714286</td>\n",
       "      <td>0.500</td>\n",
       "      <td>0.500</td>\n",
       "      <td>0.428571</td>\n",
       "      <td>0.714286</td>\n",
       "      <td>0</td>\n",
       "    </tr>\n",
       "    <tr>\n",
       "      <th>693</th>\n",
       "      <td>2</td>\n",
       "      <td>0.608696</td>\n",
       "      <td>0.428571</td>\n",
       "      <td>0.500</td>\n",
       "      <td>0.500</td>\n",
       "      <td>0.428571</td>\n",
       "      <td>0.571429</td>\n",
       "      <td>0</td>\n",
       "    </tr>\n",
       "    <tr>\n",
       "      <th>689</th>\n",
       "      <td>2</td>\n",
       "      <td>0.565217</td>\n",
       "      <td>0.857143</td>\n",
       "      <td>0.750</td>\n",
       "      <td>0.000</td>\n",
       "      <td>0.000000</td>\n",
       "      <td>0.428571</td>\n",
       "      <td>0</td>\n",
       "    </tr>\n",
       "    <tr>\n",
       "      <th>484</th>\n",
       "      <td>2</td>\n",
       "      <td>0.608696</td>\n",
       "      <td>0.285714</td>\n",
       "      <td>0.250</td>\n",
       "      <td>0.250</td>\n",
       "      <td>0.571429</td>\n",
       "      <td>0.428571</td>\n",
       "      <td>0</td>\n",
       "    </tr>\n",
       "    <tr>\n",
       "      <th>...</th>\n",
       "      <td>...</td>\n",
       "      <td>...</td>\n",
       "      <td>...</td>\n",
       "      <td>...</td>\n",
       "      <td>...</td>\n",
       "      <td>...</td>\n",
       "      <td>...</td>\n",
       "      <td>...</td>\n",
       "    </tr>\n",
       "    <tr>\n",
       "      <th>397</th>\n",
       "      <td>2</td>\n",
       "      <td>0.782609</td>\n",
       "      <td>0.000000</td>\n",
       "      <td>0.250</td>\n",
       "      <td>0.500</td>\n",
       "      <td>0.714286</td>\n",
       "      <td>0.428571</td>\n",
       "      <td>4</td>\n",
       "    </tr>\n",
       "    <tr>\n",
       "      <th>272</th>\n",
       "      <td>2</td>\n",
       "      <td>0.695652</td>\n",
       "      <td>0.857143</td>\n",
       "      <td>0.125</td>\n",
       "      <td>0.375</td>\n",
       "      <td>0.714286</td>\n",
       "      <td>0.428571</td>\n",
       "      <td>4</td>\n",
       "    </tr>\n",
       "    <tr>\n",
       "      <th>22</th>\n",
       "      <td>0</td>\n",
       "      <td>0.652174</td>\n",
       "      <td>0.428571</td>\n",
       "      <td>0.500</td>\n",
       "      <td>0.625</td>\n",
       "      <td>0.571429</td>\n",
       "      <td>0.571429</td>\n",
       "      <td>4</td>\n",
       "    </tr>\n",
       "    <tr>\n",
       "      <th>270</th>\n",
       "      <td>1</td>\n",
       "      <td>0.608696</td>\n",
       "      <td>0.714286</td>\n",
       "      <td>0.000</td>\n",
       "      <td>0.625</td>\n",
       "      <td>0.428571</td>\n",
       "      <td>0.714286</td>\n",
       "      <td>4</td>\n",
       "    </tr>\n",
       "    <tr>\n",
       "      <th>315</th>\n",
       "      <td>1</td>\n",
       "      <td>0.565217</td>\n",
       "      <td>0.428571</td>\n",
       "      <td>0.625</td>\n",
       "      <td>0.250</td>\n",
       "      <td>0.571429</td>\n",
       "      <td>0.428571</td>\n",
       "      <td>4</td>\n",
       "    </tr>\n",
       "  </tbody>\n",
       "</table>\n",
       "<p>1024 rows × 8 columns</p>\n",
       "</div>"
      ],
      "text/plain": [
       "     Gender       Age  openness  neuroticism  conscientiousness  \\\n",
       "317       1  0.608696  0.714286        0.625              0.625   \n",
       "235       1  0.608696  0.714286        0.500              0.500   \n",
       "693       2  0.608696  0.428571        0.500              0.500   \n",
       "689       2  0.565217  0.857143        0.750              0.000   \n",
       "484       2  0.608696  0.285714        0.250              0.250   \n",
       "..      ...       ...       ...          ...                ...   \n",
       "397       2  0.782609  0.000000        0.250              0.500   \n",
       "272       2  0.695652  0.857143        0.125              0.375   \n",
       "22        0  0.652174  0.428571        0.500              0.625   \n",
       "270       1  0.608696  0.714286        0.000              0.625   \n",
       "315       1  0.565217  0.428571        0.625              0.250   \n",
       "\n",
       "     agreeableness  extraversion  personality  \n",
       "317       0.714286      0.428571            0  \n",
       "235       0.428571      0.714286            0  \n",
       "693       0.428571      0.571429            0  \n",
       "689       0.000000      0.428571            0  \n",
       "484       0.571429      0.428571            0  \n",
       "..             ...           ...          ...  \n",
       "397       0.714286      0.428571            4  \n",
       "272       0.714286      0.428571            4  \n",
       "22        0.571429      0.571429            4  \n",
       "270       0.428571      0.714286            4  \n",
       "315       0.571429      0.428571            4  \n",
       "\n",
       "[1024 rows x 8 columns]"
      ]
     },
     "execution_count": 186,
     "metadata": {},
     "output_type": "execute_result"
    }
   ],
   "source": [
    "main_df.sort_values('personality')"
   ]
  },
  {
   "cell_type": "code",
   "execution_count": 227,
   "id": "e885d1b2-be09-4507-ad03-54cef08211a7",
   "metadata": {},
   "outputs": [],
   "source": [
    "model.compile(\n",
    "  optimizer='adam',\n",
    "  loss='categorical_crossentropy',\n",
    "  metrics=['accuracy'],\n",
    ")"
   ]
  },
  {
   "cell_type": "code",
   "execution_count": 188,
   "id": "d1f489b0-bad4-4776-983d-111bf048d257",
   "metadata": {},
   "outputs": [],
   "source": [
    "outputs = main_df['personality']\n",
    "main_df.drop(['personality'], axis = 1, inplace=True)\n"
   ]
  },
  {
   "cell_type": "code",
   "execution_count": 228,
   "id": "1f87e0fd-ee67-449a-8b5c-586a6f0b1713",
   "metadata": {},
   "outputs": [
    {
     "name": "stdout",
     "output_type": "stream",
     "text": [
      "Epoch 1/10\n"
     ]
    },
    {
     "name": "stderr",
     "output_type": "stream",
     "text": [
      "C:\\Users\\samru\\AppData\\Local\\Programs\\Python\\Python311\\Lib\\site-packages\\tensorflow\\python\\util\\dispatch.py:1260: SyntaxWarning: In loss categorical_crossentropy, expected y_pred.shape to be (batch_size, num_classes) with num_classes > 1. Received: y_pred.shape=(32, 1). Consider using 'binary_crossentropy' if you only have 2 classes.\n",
      "  return dispatch_target(*args, **kwargs)\n"
     ]
    },
    {
     "name": "stdout",
     "output_type": "stream",
     "text": [
      "32/32 [==============================] - 1s 2ms/step - loss: 0.0000e+00 - accuracy: 0.2217\n",
      "Epoch 2/10\n",
      "32/32 [==============================] - 0s 2ms/step - loss: 0.0000e+00 - accuracy: 0.2217\n",
      "Epoch 3/10\n",
      "32/32 [==============================] - 0s 2ms/step - loss: 0.0000e+00 - accuracy: 0.2217\n",
      "Epoch 4/10\n",
      "32/32 [==============================] - 0s 3ms/step - loss: 0.0000e+00 - accuracy: 0.2217\n",
      "Epoch 5/10\n",
      "32/32 [==============================] - 0s 3ms/step - loss: 0.0000e+00 - accuracy: 0.2217\n",
      "Epoch 6/10\n",
      "32/32 [==============================] - 0s 3ms/step - loss: 0.0000e+00 - accuracy: 0.2217\n",
      "Epoch 7/10\n",
      "32/32 [==============================] - 0s 3ms/step - loss: 0.0000e+00 - accuracy: 0.2217\n",
      "Epoch 8/10\n",
      "32/32 [==============================] - 0s 3ms/step - loss: 0.0000e+00 - accuracy: 0.2217\n",
      "Epoch 9/10\n",
      "32/32 [==============================] - 0s 3ms/step - loss: 0.0000e+00 - accuracy: 0.2217\n",
      "Epoch 10/10\n",
      "32/32 [==============================] - 0s 3ms/step - loss: 0.0000e+00 - accuracy: 0.2217\n"
     ]
    },
    {
     "data": {
      "text/plain": [
       "<keras.src.callbacks.History at 0x2b03469c710>"
      ]
     },
     "execution_count": 228,
     "metadata": {},
     "output_type": "execute_result"
    }
   ],
   "source": [
    "model.fit(main_df, outputs, epochs = 10)"
   ]
  },
  {
   "cell_type": "code",
   "execution_count": null,
   "id": "54b094c1-ff64-4222-9d0c-930923e77f03",
   "metadata": {},
   "outputs": [],
   "source": []
  }
 ],
 "metadata": {
  "kernelspec": {
   "display_name": "Python 3 (ipykernel)",
   "language": "python",
   "name": "python3"
  },
  "language_info": {
   "codemirror_mode": {
    "name": "ipython",
    "version": 3
   },
   "file_extension": ".py",
   "mimetype": "text/x-python",
   "name": "python",
   "nbconvert_exporter": "python",
   "pygments_lexer": "ipython3",
   "version": "3.11.4"
  }
 },
 "nbformat": 4,
 "nbformat_minor": 5
}
